{
 "cells": [
  {
   "cell_type": "markdown",
   "metadata": {},
   "source": [
    "# programmed by 117CS0233(Bhupati)"
   ]
  },
  {
   "cell_type": "code",
   "execution_count": 69,
   "metadata": {},
   "outputs": [],
   "source": [
    "import cv2\n",
    "img1=cv2.imread('1.jpg',cv2.COLOR_BGR2GRAY)\n",
    "img2=cv2.imread('2.jpg',cv2.COLOR_BGR2GRAY)\n",
    "img3=cv2.imread('3.jpg',cv2.COLOR_BGR2GRAY)\n",
    "img4=cv2.imread('4.jpg',cv2.COLOR_BGR2GRAY)"
   ]
  },
  {
   "cell_type": "code",
   "execution_count": 72,
   "metadata": {},
   "outputs": [
    {
     "data": {
      "text/plain": [
       "(262144, 4)"
      ]
     },
     "execution_count": 72,
     "metadata": {},
     "output_type": "execute_result"
    }
   ],
   "source": [
    "#Creating (512*512) feature vector\n",
    "import numpy as np\n",
    "x=[]\n",
    "for i in range(33,545):\n",
    "    for j in range(80,592):\n",
    "        x.append(np.array([img1[i,j][0],img2[i,j][0],img3[i,j][0],img4[i,j][0]]))\n",
    "feature_vector=np.array(x)\n",
    "feature_vector.shape"
   ]
  },
  {
   "cell_type": "code",
   "execution_count": 73,
   "metadata": {},
   "outputs": [
    {
     "data": {
      "text/plain": [
       "(598, 676, 3)"
      ]
     },
     "execution_count": 73,
     "metadata": {},
     "output_type": "execute_result"
    }
   ],
   "source": [
    "img1.shape"
   ]
  },
  {
   "cell_type": "code",
   "execution_count": 74,
   "metadata": {},
   "outputs": [
    {
     "data": {
      "text/plain": [
       "array([68.65904236, 72.7576828 , 68.54934692, 80.93426132])"
      ]
     },
     "execution_count": 74,
     "metadata": {},
     "output_type": "execute_result"
    }
   ],
   "source": [
    "#Calculating Mean\n",
    "feature_mean = np.array([feature_vector[:,0].mean(), feature_vector[:,1].mean(), feature_vector[:,2].mean(), feature_vector[:,3].mean()])\n",
    "feature_mean                                                                                                                         "
   ]
  },
  {
   "cell_type": "code",
   "execution_count": 75,
   "metadata": {},
   "outputs": [
    {
     "data": {
      "text/plain": [
       "array([[ 34.34095764,  34.2423172 ,  27.45065308, -51.93426132],\n",
       "       [ 33.34095764,  31.2423172 ,  23.45065308, -51.93426132],\n",
       "       [ 25.34095764,  28.2423172 ,  30.45065308, -52.93426132],\n",
       "       [ 21.34095764,  28.2423172 ,  19.45065308, -52.93426132],\n",
       "       [ 25.34095764,  30.2423172 ,  29.45065308, -51.93426132],\n",
       "       [ 18.34095764,  30.2423172 ,  18.45065308, -50.93426132],\n",
       "       [ 13.34095764,  27.2423172 ,  25.45065308, -50.93426132],\n",
       "       [ 21.34095764,  23.2423172 ,  21.45065308, -50.93426132],\n",
       "       [ 18.34095764,  28.2423172 ,  26.45065308, -46.93426132],\n",
       "       [ 23.34095764,  22.2423172 ,  25.45065308, -50.93426132]])"
      ]
     },
     "execution_count": 75,
     "metadata": {},
     "output_type": "execute_result"
    }
   ],
   "source": [
    "#subtracting mean\n",
    "feature_std=feature_vector-feature_mean.reshape(1,4)\n",
    "feature_std[100000:100010]"
   ]
  },
  {
   "cell_type": "code",
   "execution_count": 76,
   "metadata": {},
   "outputs": [
    {
     "data": {
      "text/plain": [
       "array([[770.8225938 , 677.65579737, 698.30445073, 374.06279884],\n",
       "       [677.65579737, 665.09490441, 665.22143492, 406.16333126],\n",
       "       [698.30445073, 665.22143492, 774.57514276, 397.0792388 ],\n",
       "       [374.06279884, 406.16333126, 397.0792388 , 900.75146056]])"
      ]
     },
     "execution_count": 76,
     "metadata": {},
     "output_type": "execute_result"
    }
   ],
   "source": [
    "#Calculate covariance matrix\n",
    "def cov(x,y):\n",
    "    l= x-x.mean()\n",
    "    r=y-y.mean()\n",
    "    n=x.size\n",
    "    return (l*r).sum()/(n-1)\n",
    "x=[]\n",
    "for i in range(4):\n",
    "    for j in range(4):\n",
    "        x.append(cov(feature_std[:,i],feature_std[:,j]))\n",
    "feature_cov = np.array(x).reshape(4,4)\n",
    "feature_cov"
   ]
  },
  {
   "cell_type": "code",
   "execution_count": 77,
   "metadata": {},
   "outputs": [
    {
     "data": {
      "text/plain": [
       "array([[770.8225938 , 677.65579737, 698.30445073, 374.06279884],\n",
       "       [677.65579737, 665.09490441, 665.22143492, 406.16333126],\n",
       "       [698.30445073, 665.22143492, 774.57514276, 397.0792388 ],\n",
       "       [374.06279884, 406.16333126, 397.0792388 , 900.75146056]])"
      ]
     },
     "execution_count": 77,
     "metadata": {},
     "output_type": "execute_result"
    }
   ],
   "source": [
    "#verify covariance matrix\n",
    "np.cov(feature_std.T)"
   ]
  },
  {
   "cell_type": "code",
   "execution_count": 78,
   "metadata": {},
   "outputs": [
    {
     "data": {
      "text/plain": [
       "array([[ 0.53377604,  0.2870481 , -0.59978322,  0.52244293],\n",
       "       [ 0.50856817,  0.17611514, -0.1802647 , -0.82331434],\n",
       "       [ 0.53598489,  0.24473162,  0.77945838,  0.21277046],\n",
       "       [ 0.41129279, -0.90922675, -0.01446929,  0.06273439]])"
      ]
     },
     "execution_count": 78,
     "metadata": {},
     "output_type": "execute_result"
    }
   ],
   "source": [
    "#Calculate Eigen-Values and Eigen-Vectors\n",
    "w,v = np.linalg.eig(feature_cov)\n",
    "#Eigen Vectors\n",
    "v"
   ]
  },
  {
   "cell_type": "code",
   "execution_count": 79,
   "metadata": {},
   "outputs": [
    {
     "data": {
      "text/plain": [
       "array([2405.89812118,  597.10511708,   76.0225333 ,   32.21832997])"
      ]
     },
     "execution_count": 79,
     "metadata": {},
     "output_type": "execute_result"
    }
   ],
   "source": [
    "#Eigen Values\n",
    "w"
   ]
  },
  {
   "cell_type": "code",
   "execution_count": 80,
   "metadata": {},
   "outputs": [
    {
     "data": {
      "text/plain": [
       "array([0.53377604, 0.50856817, 0.53598489, 0.41129279])"
      ]
     },
     "execution_count": 80,
     "metadata": {},
     "output_type": "execute_result"
    }
   ],
   "source": [
    "#Eigen Vector of img1\n",
    "v[:,0]"
   ]
  },
  {
   "cell_type": "code",
   "execution_count": 81,
   "metadata": {},
   "outputs": [],
   "source": [
    "import cv2\n",
    "import numpy as np\n",
    "def display_principal_components(transformed,n):\n",
    "    cv2.imwrite(str(n)+'_transformed.jpg',transformed)\n",
    "    img = cv2.imread(str(n)+'_transformed.jpg')\n",
    "    equ = cv2.equalizeHist(img[:,:,0])\n",
    "    #cv2.imshow(\"princial_component_\"+str(n),equ)\n",
    "    cv2.imwrite(str(n)+'_equalized.jpg',equ)\n",
    "    cv2.waitKey(0)\n",
    "    cv2.destroyAllWindows()"
   ]
  },
  {
   "cell_type": "code",
   "execution_count": 82,
   "metadata": {},
   "outputs": [],
   "source": [
    "import cv2\n",
    "def transform_image(v,feature_std,feature_mean):\n",
    "    dot=np.matmul(np.matrix.transpose(v) , np.matrix.transpose(feature_std))\n",
    "    return dot.reshape(512,512)+feature_mean\n",
    "\n",
    "#pricipal_component_1\n",
    "pricipal_component_1 = transform_image(v[:,0],feature_std,feature_mean[0])\n",
    "display_principal_components(pricipal_component_1,1)  "
   ]
  },
  {
   "cell_type": "code",
   "execution_count": 83,
   "metadata": {},
   "outputs": [],
   "source": [
    "#pricipal_component_2\n",
    "pricipal_component_2 = transform_image(v[:,1],feature_std,feature_mean[1])\n",
    "display_principal_components(pricipal_component_2,2)  "
   ]
  },
  {
   "cell_type": "code",
   "execution_count": 84,
   "metadata": {},
   "outputs": [],
   "source": [
    "#pricipal_component_3\n",
    "pricipal_component_3 = transform_image(v[:,2],feature_std,feature_mean[2])\n",
    "display_principal_components(pricipal_component_3,3)  "
   ]
  },
  {
   "cell_type": "code",
   "execution_count": 85,
   "metadata": {},
   "outputs": [],
   "source": [
    "#pricipal_component_4\n",
    "pricipal_component_4 = transform_image(v[:,3],feature_std,feature_mean[3])\n",
    "display_principal_components(pricipal_component_4,4)  "
   ]
  },
  {
   "cell_type": "code",
   "execution_count": 86,
   "metadata": {},
   "outputs": [
    {
     "name": "stdout",
     "output_type": "stream",
     "text": [
      "Eigen values for the corresponding covariance matrix is correct. \n"
     ]
    }
   ],
   "source": [
    "#Model Verification\n",
    "val=0\n",
    "for i in range(4):\n",
    "    val+=feature_cov[i,i]\n",
    "if (val == w.sum()):\n",
    "    print(\"Eigen values for the corresponding covariance matrix is correct. \")"
   ]
  },
  {
   "cell_type": "code",
   "execution_count": null,
   "metadata": {},
   "outputs": [],
   "source": []
  }
 ],
 "metadata": {
  "kernelspec": {
   "display_name": "Python 3",
   "language": "python",
   "name": "python3"
  },
  "language_info": {
   "codemirror_mode": {
    "name": "ipython",
    "version": 3
   },
   "file_extension": ".py",
   "mimetype": "text/x-python",
   "name": "python",
   "nbconvert_exporter": "python",
   "pygments_lexer": "ipython3",
   "version": "3.7.6"
  }
 },
 "nbformat": 4,
 "nbformat_minor": 4
}
